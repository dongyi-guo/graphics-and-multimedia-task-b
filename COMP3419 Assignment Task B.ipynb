{
 "cells": [
  {
   "cell_type": "code",
   "execution_count": 1,
   "metadata": {},
   "outputs": [],
   "source": [
    "# COMP3419 Assignment (Option 1)\n",
    "# Name: Jelly DongYi Guo\n",
    "# Student ID: 470033070\n",
    "# UniKey: dguo0006"
   ]
  },
  {
   "cell_type": "code",
   "execution_count": 2,
   "metadata": {},
   "outputs": [],
   "source": [
    "# Task B - Montion Caputure & Visualization\n",
    "# References\n",
    "# Week 4 Lab Video Processing\n",
    "# Week 5 Lab Image Processing"
   ]
  },
  {
   "cell_type": "code",
   "execution_count": 3,
   "metadata": {},
   "outputs": [],
   "source": [
    "#Headers:\n",
    "import os\n",
    "import sys\n",
    "import cv2\n",
    "import math\n",
    "import random\n",
    "import matplotlib\n",
    "import numpy as np\n",
    "from matplotlib import pyplot as plt\n",
    "%matplotlib inline\n",
    "from IPython.display import clear_output"
   ]
  },
  {
   "cell_type": "code",
   "execution_count": 4,
   "metadata": {},
   "outputs": [],
   "source": [
    "def create_dir(dir):\n",
    "    if not os.path.exists(dir):\n",
    "        os.mkdir(dir)\n",
    "    else:\n",
    "        print(dir + \" exists\")"
   ]
  },
  {
   "cell_type": "code",
   "execution_count": 5,
   "metadata": {},
   "outputs": [],
   "source": [
    "#Convert Monkey video to frames\n",
    "cap = cv2.VideoCapture('data/monkey_taskB.mov')\n",
    "if not cap.isOpened():\n",
    "    print('Cannot load Monkey')\n",
    "    sys.exit(1)\n",
    "frame_counter = 0\n",
    "frame_num = 0\n",
    "frame_save_path = './frames/'\n",
    "create_dir(frame_save_path)"
   ]
  },
  {
   "cell_type": "code",
   "execution_count": 6,
   "metadata": {
    "scrolled": true
   },
   "outputs": [
    {
     "name": "stdout",
     "output_type": "stream",
     "text": [
      "Video Ends\n"
     ]
    }
   ],
   "source": [
    "while(True):\n",
    "    ret, frame = cap.read()\n",
    "    if not ret:\n",
    "        print('Video Ends')\n",
    "        frame_num = frame_counter + 1    \n",
    "        break\n",
    "    path = frame_save_path + 'frame{}.tif'.format(frame_counter)\n",
    "    print('Extracting: %d' % frame_counter)\n",
    "    clear_output(wait=True)\n",
    "    cv2.imwrite(path,frame)\n",
    "    frame_counter += 1\n",
    "    if cv2.waitKey(30) & 0xff == ord('q'):\n",
    "        break\n",
    "cap.release()\n",
    "cv2.destroyAllWindows()"
   ]
  },
  {
   "cell_type": "code",
   "execution_count": 7,
   "metadata": {},
   "outputs": [],
   "source": [
    "#Convert Background video to frames\n",
    "capbg = cv2.VideoCapture('data/bg.mp4')\n",
    "if not capbg.isOpened():\n",
    "    print('Cannot load Background')\n",
    "    sys.exit(1)\n",
    "bg_counter = 0\n",
    "bg_save_path = './backgrounds/'\n",
    "create_dir(bg_save_path)\n",
    "bg_num = 0"
   ]
  },
  {
   "cell_type": "code",
   "execution_count": 8,
   "metadata": {},
   "outputs": [
    {
     "name": "stdout",
     "output_type": "stream",
     "text": [
      "Video Ends\n"
     ]
    }
   ],
   "source": [
    "while(True):\n",
    "    ret, frame = capbg.read()\n",
    "    if not ret:\n",
    "        print('Video Ends')\n",
    "        bg_num = bg_counter - 1\n",
    "        break\n",
    "    path = bg_save_path + 'bg{}.tif'.format(bg_counter)\n",
    "    print('Extracting: %d' % bg_counter)\n",
    "    clear_output(wait=True)\n",
    "    cv2.imwrite(path,frame)\n",
    "    bg_counter += 1\n",
    "    if cv2.waitKey(30) & 0xff == ord('q'):\n",
    "        break\n",
    "cap.release()\n",
    "cv2.destroyAllWindows()"
   ]
  },
  {
   "cell_type": "code",
   "execution_count": 9,
   "metadata": {},
   "outputs": [],
   "source": [
    "# Conc the monkey 5 body parts with the background only\n",
    "frame_processed_path = './processed/'\n",
    "create_dir(frame_processed_path)\n",
    "frame_counter = 0\n",
    "bg_counter = 0"
   ]
  },
  {
   "cell_type": "code",
   "execution_count": null,
   "metadata": {
    "scrolled": true
   },
   "outputs": [
    {
     "name": "stdout",
     "output_type": "stream",
     "text": [
      "Processing: 70%\n"
     ]
    }
   ],
   "source": [
    "while(1):\n",
    "    img = cv2.imread(frame_save_path + 'frame%d.tif' % frame_counter)\n",
    "    if img is None:\n",
    "        clear_output(wait=True)\n",
    "        print(\"No more frames\")\n",
    "        break\n",
    "    bg = cv2.imread(bg_save_path + 'bg%d.tif' % bg_counter)\n",
    "    if bg is None:\n",
    "        bg_counter = 0\n",
    "        continue\n",
    "    bgh = bg.shape[0]\n",
    "    bgw = bg.shape[1]\n",
    "    img = cv2.resize(img,dsize=(bgw,bgh),interpolation=cv2.INTER_CUBIC)\n",
    "    for x in range(bgh):\n",
    "        for y in range(bgw):\n",
    "            if (img[x,y,0] > 150) | (img[x,y,1] < 150) & (img[x,y,2] < 150):\n",
    "                img[x,y,0] = bg[x,y,0]  \n",
    "                img[x,y,1] = bg[x,y,1]\n",
    "                img[x,y,2] = bg[x,y,2]\n",
    "    cv2.imwrite('processed/processed%d.tif' % frame_counter, img)\n",
    "    print('Processing: %d%%' % int(100*frame_counter/frame_num))\n",
    "    clear_output(wait=True)\n",
    "    if cv2.waitKey(30) & 0xff == ord('q'):\n",
    "        break\n",
    "    frame_counter += 1\n",
    "    bg_counter += 1\n",
    "cv2.destroyAllWindows()\n",
    "print(\"Done!\") "
   ]
  },
  {
   "cell_type": "code",
   "execution_count": null,
   "metadata": {},
   "outputs": [],
   "source": [
    "count = 0\n",
    "frame_num = 941\n",
    "fourcc = cv2.VideoWriter_fourcc('M', 'J', 'P', 'G')\n",
    "out = cv2.VideoWriter('./taskb.mov', fourcc , 10, (640, 360))\n",
    "while(1):\n",
    "    img = cv2.imread(frame_processed_path + 'processed%d.tif' % count)\n",
    "    if img is None:\n",
    "        print('No more frames to be loaded')\n",
    "        break\n",
    "    print(\"Generating Videos: %d%%\" % int(100*count/frame_num))\n",
    "    clear_output(wait=True)\n",
    "    out.write(img)\n",
    "    count += 1\n",
    "out.release()\n",
    "cv2.destroyAllWindows()\n",
    "print(\"Done!\")s"
   ]
  },
  {
   "cell_type": "code",
   "execution_count": null,
   "metadata": {},
   "outputs": [],
   "source": [
    "#Composite doges!\n",
    "counter = 0\n",
    "composited_path = './composite'\n",
    "create_dir(composited_path)"
   ]
  },
  {
   "cell_type": "code",
   "execution_count": null,
   "metadata": {},
   "outputs": [],
   "source": [
    "while(1):\n",
    "    img = cv2.imread(frame_save_path + 'frame%d.tif' % frame_counter)\n",
    "    if img is None:\n",
    "        clear_output(wait=True)\n",
    "        print(\"No more frames\")\n",
    "        break\n",
    "    bg = cv2.imread(bg_save_path + 'bg%d.tif' % bg_counter)\n",
    "    if bg is None:\n",
    "        bg_counter = 0\n",
    "        continue\n",
    "    bgh = bg.shape[0]\n",
    "    bgw = bg.shape[1]\n",
    "    img = cv2.resize(img,dsize=(bgw,bgh),interpolation=cv2.INTER_CUBIC)\n",
    "    yx = []\n",
    "    yy = []\n",
    "    rx = []\n",
    "    ry = []\n",
    "    for x in range(bgh):\n",
    "        for y in range(bgw):\n",
    "            if (img[x,y,0] > 150) | (img[x,y,1] < 150) & (img[x,y,2] < 150):\n",
    "                img[x,y,0] = bg[x,y,0]  \n",
    "                img[x,y,1] = bg[x,y,1]\n",
    "                img[x,y,2] = bg[x,y,2]\n",
    "            else{\n",
    "                if(img[x,y,1] > 220){\n",
    "                    yx.append(x)\n",
    "                    yy.append(y)\n",
    "                }else{\n",
    "                    rx.append(x)\n",
    "                    ry.append(y)\n",
    "                }\n",
    "            }\n",
    "    avgyx = Average(yx)\n",
    "    avgyy = Average(yy)\n",
    "    avgrx = Average(rx)\n",
    "    avgry = Average(ry)\n",
    "    cv2.imwrite('composite/composite%d.tif' % frame_counter, img)\n",
    "    print('Processing: %d%%' % int(100*frame_counter/frame_num))\n",
    "    clear_output(wait=True)\n",
    "    if cv2.waitKey(30) & 0xff == ord('q'):\n",
    "        break\n",
    "    frame_counter += 1\n",
    "    bg_counter += 1\n",
    "cv2.destroyAllWindows()\n",
    "print(\"Done!\") "
   ]
  }
 ],
 "metadata": {
  "kernelspec": {
   "display_name": "Python 3",
   "language": "python",
   "name": "python3"
  },
  "language_info": {
   "codemirror_mode": {
    "name": "ipython",
    "version": 3
   },
   "file_extension": ".py",
   "mimetype": "text/x-python",
   "name": "python",
   "nbconvert_exporter": "python",
   "pygments_lexer": "ipython3",
   "version": "3.7.4"
  }
 },
 "nbformat": 4,
 "nbformat_minor": 2
}
